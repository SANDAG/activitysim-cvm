{
 "cells": [
  {
   "cell_type": "code",
   "execution_count": 1,
   "metadata": {},
   "outputs": [],
   "source": [
    "import numpy as np\n",
    "import pandas as pd\n",
    "\n",
    "# path to persons.csv\n",
    "persons_path = \"data_full/persons.csv\"\n",
    "\n",
    "df = pd.read_csv(persons_path)"
   ]
  },
  {
   "cell_type": "code",
   "execution_count": 2,
   "metadata": {},
   "outputs": [],
   "source": [
    "# fix the government split category - before, it combined government and unemployed people\n",
    "df[\"SW_SPLIT_IND\"] = np.where(df[\"SW_UNSPLIT_IND\"] == 0, 0, df[\"SW_SPLIT_IND\"])"
   ]
  },
  {
   "cell_type": "code",
   "execution_count": 3,
   "metadata": {},
   "outputs": [],
   "source": [
    "# custom occup code, no longer used\n",
    "# # assume that all metal production workers who are in assembly/fabrictaion are part of the new metal extraction occupation\n",
    "# df[\"SW_OCCUP\"] = np.where((df[\"SW_SPLIT_IND\"] == 3) & (df[\"SW_OCCUP\"] == 16), 19, df[\"SW_OCCUP\"])"
   ]
  },
  {
   "cell_type": "code",
   "execution_count": 4,
   "metadata": {},
   "outputs": [],
   "source": [
    "# custom occup code, no longer used\n",
    "# # assume that all people who work in the industry government can be classified as working in the government occupation\n",
    "# df[\"SW_OCCUP\"] = np.where(df[\"SW_SPLIT_IND\"] == 23, 20, df[\"SW_OCCUP\"])"
   ]
  },
  {
   "cell_type": "code",
   "execution_count": 6,
   "metadata": {},
   "outputs": [],
   "source": [
    "df.to_csv(\"data_full/persons_fixed.csv\")"
   ]
  },
  {
   "cell_type": "code",
   "execution_count": null,
   "metadata": {},
   "outputs": [],
   "source": []
  }
 ],
 "metadata": {
  "kernelspec": {
   "display_name": "Python 3.9.13",
   "language": "python",
   "name": "python3"
  },
  "language_info": {
   "codemirror_mode": {
    "name": "ipython",
    "version": 3
   },
   "file_extension": ".py",
   "mimetype": "text/x-python",
   "name": "python",
   "nbconvert_exporter": "python",
   "pygments_lexer": "ipython3",
   "version": "3.9.13"
  },
  "orig_nbformat": 4,
  "vscode": {
   "interpreter": {
    "hash": "f529ef7e50ac04e93991fc41217dc1b4c52515aadd97b72ac40f00a91c4697dd"
   }
  }
 },
 "nbformat": 4,
 "nbformat_minor": 2
}
