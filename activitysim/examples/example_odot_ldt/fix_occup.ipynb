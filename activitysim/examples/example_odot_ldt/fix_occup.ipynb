{
 "cells": [
  {
   "cell_type": "code",
   "execution_count": 1,
   "metadata": {},
   "outputs": [],
   "source": [
    "import numpy as np\n",
    "import pandas as pd\n",
    "\n",
    "# path to persons.csv\n",
    "persons_path = \"data_full/persons.csv\"\n",
    "\n",
    "df = pd.read_csv(persons_path)"
   ]
  },
  {
   "cell_type": "code",
   "execution_count": 2,
   "metadata": {},
   "outputs": [],
   "source": [
    "# fix the government split category - before, it combined government and unemployed people\n",
    "df[\"SW_SPLIT_IND\"] = np.where(df[\"SW_UNSPLIT_IND\"] == 0, 0, df[\"SW_SPLIT_IND\"])"
   ]
  },
  {
   "cell_type": "code",
   "execution_count": 3,
   "metadata": {},
   "outputs": [],
   "source": [
    "# custom occup code, no longer used\n",
    "# # assume that all metal production workers who are in assembly/fabrictaion are part of the new metal extraction occupation\n",
    "# df[\"SW_OCCUP\"] = np.where((df[\"SW_SPLIT_IND\"] == 3) & (df[\"SW_OCCUP\"] == 16), 19, df[\"SW_OCCUP\"])"
   ]
  },
  {
   "cell_type": "code",
   "execution_count": 4,
   "metadata": {},
   "outputs": [],
   "source": [
    "# custom occup code, no longer used\n",
    "# # assume that all people who work in the industry government can be classified as working in the government occupation\n",
    "# df[\"SW_OCCUP\"] = np.where(df[\"SW_SPLIT_IND\"] == 23, 20, df[\"SW_OCCUP\"])"
   ]
  },
  {
   "cell_type": "code",
   "execution_count": 6,
   "metadata": {},
   "outputs": [],
   "source": [
    "df.to_csv(\"data_full/persons_fixed.csv\")"
   ]
  },
  {
   "cell_type": "code",
   "execution_count": 4,
   "metadata": {},
   "outputs": [],
   "source": [
    "pd.read_csv('data_full/land_use_fixed.csv').fillna({\n",
    "    'HHlt20K1to2':0,\n",
    "    'HHlt20K3plus':0,\n",
    "    'HH20to40K1to2':0,\n",
    "    'HH20to40K3plus':0,\n",
    "    'HH40to60K1to2':0,\n",
    "    'HH40to60K3plus':0,\n",
    "    'HH60to75K1to2':0,\n",
    "    'HH60to75K3plus':0,\n",
    "    'HH75to100K1to2':0,\n",
    "    'HH75to100K3plus':0,\n",
    "    'HH100Kplus1to2':0,\n",
    "    'HH100Kplus3plus':0,\n",
    "    'TotHH':0,\n",
    "}).to_csv(\"data_full/land_use_fixed.csv\")\n"
   ]
  },
  {
   "cell_type": "code",
   "execution_count": 10,
   "metadata": {},
   "outputs": [],
   "source": [
    "land_use = pd.read_csv('data_full/land_use_fixed.csv')"
   ]
  },
  {
   "cell_type": "code",
   "execution_count": 11,
   "metadata": {},
   "outputs": [],
   "source": [
    "land_use[\"MODELAREA\"] = np.where(land_use[\"MODELAREA\"] == 1, 1, 0)"
   ]
  },
  {
   "cell_type": "code",
   "execution_count": 12,
   "metadata": {},
   "outputs": [],
   "source": [
    "land_use.to_csv(\"data_full/land_use_final.csv\")"
   ]
  },
  {
   "cell_type": "code",
   "execution_count": null,
   "metadata": {},
   "outputs": [],
   "source": []
  }
 ],
 "metadata": {
  "kernelspec": {
   "display_name": "Python 3",
   "language": "python",
   "name": "python3"
  },
  "language_info": {
   "codemirror_mode": {
    "name": "ipython",
    "version": 3
   },
   "file_extension": ".py",
   "mimetype": "text/x-python",
   "name": "python",
   "nbconvert_exporter": "python",
   "pygments_lexer": "ipython3",
   "version": "3.9.13"
  },
  "orig_nbformat": 4,
  "vscode": {
   "interpreter": {
    "hash": "4d56a7a116638db1a352fe2251efcfa1e32004496851398a67336876752e213c"
   }
  }
 },
 "nbformat": 4,
 "nbformat_minor": 2
}
