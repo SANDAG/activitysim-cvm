{
 "cells": [
  {
   "cell_type": "code",
   "execution_count": 1,
   "metadata": {},
   "outputs": [],
   "source": [
    "import numpy as np\n",
    "import pandas as pd\n",
    "\n",
    "# path to persons.csv\n",
    "persons_path = \"data_full/persons.csv\"\n",
    "\n",
    "df = pd.read_csv(persons_path)\n",
    "\n",
    "df[\"SW_SPLIT_IND\"] = np.where(df[\"SW_UNSPLIT_IND\"] == 0, 0, df[\"SW_SPLIT_IND\"])\n",
    "\n",
    "df.to_csv(\"data_full/persons_fixed.csv\")"
   ]
  }
 ],
 "metadata": {
  "kernelspec": {
   "display_name": "Python 3.9.13",
   "language": "python",
   "name": "python3"
  },
  "language_info": {
   "codemirror_mode": {
    "name": "ipython",
    "version": 3
   },
   "file_extension": ".py",
   "mimetype": "text/x-python",
   "name": "python",
   "nbconvert_exporter": "python",
   "pygments_lexer": "ipython3",
   "version": "3.9.13"
  },
  "orig_nbformat": 4,
  "vscode": {
   "interpreter": {
    "hash": "f529ef7e50ac04e93991fc41217dc1b4c52515aadd97b72ac40f00a91c4697dd"
   }
  }
 },
 "nbformat": 4,
 "nbformat_minor": 2
}
