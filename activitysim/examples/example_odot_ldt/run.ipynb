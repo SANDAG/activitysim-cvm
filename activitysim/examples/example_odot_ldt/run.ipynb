{
 "cells": [
  {
   "cell_type": "code",
   "execution_count": 1,
   "metadata": {},
   "outputs": [
    {
     "data": {
      "text/plain": [
       "'c:\\\\WORKSPACE\\\\activitysim_ldt\\\\activitysim\\\\examples\\\\example_odot_ldt'"
      ]
     },
     "execution_count": 1,
     "metadata": {},
     "output_type": "execute_result"
    }
   ],
   "source": [
    "import os\n",
    "\n",
    "# default = os.chdir()\n",
    "default = 'c:\\\\WORKSPACE\\\\activitysim_ldt\\\\activitysim\\\\examples\\\\example_odot_ldt'\n",
    "default"
   ]
  },
  {
   "cell_type": "code",
   "execution_count": 2,
   "metadata": {},
   "outputs": [
    {
     "data": {
      "text/plain": [
       "'c:\\\\WORKSPACE\\\\activitysim_ldt\\\\activitysim\\\\examples\\\\example_odot_ldt'"
      ]
     },
     "execution_count": 2,
     "metadata": {},
     "output_type": "execute_result"
    }
   ],
   "source": [
    "default"
   ]
  },
  {
   "cell_type": "code",
   "execution_count": 3,
   "metadata": {},
   "outputs": [
    {
     "name": "stdout",
     "output_type": "stream",
     "text": [
      "c:\\WORKSPACE\\activitysim_ldt\\activitysim\n",
      "Configured logging using basicConfig\n",
      "INFO:activitysim:Configured logging using basicConfig\n",
      "INFO - Read logging configuration from: examples/example_odot_ldt/configs/logging.yaml\n",
      "INFO - Time to execute open_pipeline : 0.016 seconds (0.0 minutes)\n",
      "INFO - preload_injectables\n",
      "INFO - Time to execute preload_injectables : 0.016 seconds (0.0 minutes)\n",
      "INFO - #run_model running step initialize_landuse\n",
      "Running step 'initialize_landuse'\n",
      "INFO - Reading CSV file examples/example_odot_ldt/data_full/land_use.csv\n",
      "INFO - loaded land_use (5116, 50)\n",
      "INFO - initialize_landuse.annotate_tables - annotating land_use SPEC annotate_landuse\n",
      "INFO - Network_LOS using skim_dict_factory: NumpyArraySkimFactory\n",
      "INFO - allocate_skim_buffer shared False taz shape (90, 5116, 5116) total size: 9_422_444_160 (9.4 GB)\n",
      "WARNING - read_skim_cache file not found: examples/example_odot_ldt/output\\cache\\cached_taz.mmap\n",
      "INFO - _read_skims_from_omx examples/example_odot_ldt/data_full/skims.omx\n",
      "INFO - _read_skims_from_omx loaded 90 skims from examples/example_odot_ldt/data_full/skims.omx\n",
      "INFO - load_skims_to_buffer taz shape (90, 5116, 5116)\n",
      "INFO - get_skim_data taz SkimData shape (90, 5116, 5116)\n",
      "INFO - SkimDict init taz\n",
      "INFO - SkimDict.build_3d_skim_block_offset_table registered 45 3d keys\n",
      "Time to execute step 'initialize_landuse': 21.13 s\n",
      "Total time to execute iteration 1 with iteration value None: 21.13 s\n",
      "WARNING - C:\\Users\\ger225\\.conda\\envs\\asim\\lib\\site-packages\\activitysim\\core\\pipeline.py:204: PerformanceWarning: \n",
      "your performance may suffer as PyTables will pickle object types that it cannot\n",
      "map directly to c-types [inferred_type->mixed,key->block1_values] [items->Index(['LDTdistrict', 'STATE', 'IMPLANTYPE'], dtype='object')]\n",
      "\n",
      "  store[pipeline_table_key(table_name, checkpoint_name)] = df\n",
      "\n",
      "INFO - #run_model running step initialize_households\n",
      "Running step 'initialize_households'\n",
      "INFO - Reading CSV file examples/example_odot_ldt/data_full/households.csv\n",
      "INFO - full household list contains 5643151 households\n",
      "INFO - sampling 1000 of 5643151 households\n",
      "INFO - loaded households (1000, 5)\n",
      "INFO - tracing household id 982875 in 1000 households\n",
      "INFO - Reading CSV file examples/example_odot_ldt/data_full/persons.csv\n",
      "INFO - loaded persons (2452, 10)\n",
      "INFO - initialize_households.annotate_tables - annotating households SPEC annotate_households\n",
      "WARNING - shadow_pricing_models list not found in shadow_pricing settings\n",
      "Time to execute step 'initialize_households': 10.22 s\n",
      "Total time to execute iteration 1 with iteration value None: 10.22 s\n",
      "INFO - #run_model running step compute_accessibility\n",
      "Running step 'compute_accessibility'\n",
      "INFO - Running compute_accessibility with 5116 orig zones 5116 dest zones\n",
      "INFO - compute_accessibility Running adaptive_chunked_choosers with 5116 choosers\n",
      "INFO - Running chunk 1 of 1 with 5116 of 5116 choosers\n",
      "INFO - Running compute_accessibility with 5116 orig zones 5116 dest zones\n",
      "INFO - compute_accessibility computed accessibilities (5116, 2)\n",
      "Time to execute step 'compute_accessibility': 8.86 s\n",
      "Total time to execute iteration 1 with iteration value None: 8.86 s\n",
      "INFO - #run_model running step write_data_dictionary\n",
      "Running step 'write_data_dictionary'\n",
      "Time to execute step 'write_data_dictionary': 0.05 s\n",
      "Total time to execute iteration 1 with iteration value None: 0.05 s\n",
      "INFO - #run_model running step track_skim_usage\n",
      "Running step 'track_skim_usage'\n",
      "Time to execute step 'track_skim_usage': 0.00 s\n",
      "Total time to execute iteration 1 with iteration value None: 0.00 s\n",
      "INFO - #run_model running step write_trip_matrices\n",
      "Running step 'write_trip_matrices'\n",
      "WARNING - write_trip_matrices returning empty-handed because there is no trips table\n",
      "Time to execute step 'write_trip_matrices': 0.00 s\n",
      "Total time to execute iteration 1 with iteration value None: 0.00 s\n",
      "INFO - #run_model running step write_tables\n",
      "Running step 'write_tables'\n",
      "WARNING - Skipping 'tours': Table not found.\n",
      "WARNING - Skipping 'trips': Table not found.\n",
      "WARNING - Skipping 'joint_tour_participants': Table not found.\n",
      "Time to execute step 'write_tables': 0.22 s\n",
      "Total time to execute iteration 1 with iteration value None: 0.22 s\n",
      "INFO - Time to execute run_model (7 models) : 43.036 seconds (0.7 minutes)\n",
      "INFO - MainProcess high water mark rss: 9_608_458_240 (9.6 GB) timestamp: 17/07/2022 13:53:45 label:pipeline.run_model write_tables finished\n",
      "INFO - MainProcess high water mark uss: 9_609_158_656 (9.6 GB) timestamp: 17/07/2022 13:53:45 label:pipeline.run_model write_tables finished\n",
      "INFO - Time to execute all models : 43.092 seconds (0.7 minutes)\n"
     ]
    },
    {
     "ename": "SystemExit",
     "evalue": "0",
     "output_type": "error",
     "traceback": [
      "An exception has occurred, use %tb to see the full traceback.\n",
      "\u001b[1;31mSystemExit\u001b[0m\u001b[1;31m:\u001b[0m 0\n"
     ]
    },
    {
     "name": "stdout",
     "output_type": "stream",
     "text": [
      "WARNING - C:\\Users\\ger225\\.conda\\envs\\asim\\lib\\site-packages\\IPython\\core\\interactiveshell.py:3406: UserWarning: To exit: use 'exit', 'quit', or Ctrl-D.\n",
      "  warn(\"To exit: use 'exit', 'quit', or Ctrl-D.\", stacklevel=1)\n",
      "\n"
     ]
    }
   ],
   "source": [
    "os.chdir(default)\n",
    "%cd ../..\n",
    "import sys\n",
    "import argparse\n",
    "from cli.run import add_run_args, run\n",
    "\n",
    "parser = argparse.ArgumentParser()\n",
    "add_run_args(parser)\n",
    "args = parser.parse_args([\"-c\", \"examples/example_odot_ldt/configs/\", \"-d\", \"examples/example_odot_ldt/data_full/\", \"-o\", \"examples/example_odot_ldt/output\"])\n",
    "\n",
    "sys.exit(run(args))\n"
   ]
  },
  {
   "cell_type": "code",
   "execution_count": null,
   "metadata": {},
   "outputs": [],
   "source": []
  }
 ],
 "metadata": {
  "kernelspec": {
   "display_name": "Python 3 (ipykernel)",
   "language": "python",
   "name": "python3"
  },
  "language_info": {
   "codemirror_mode": {
    "name": "ipython",
    "version": 3
   },
   "file_extension": ".py",
   "mimetype": "text/x-python",
   "name": "python",
   "nbconvert_exporter": "python",
   "pygments_lexer": "ipython3",
   "version": "3.9.13"
  },
  "vscode": {
   "interpreter": {
    "hash": "809c88322a3ac937d1a690479e0c966f497427a5dc2bdc5beab0a270bc593476"
   }
  }
 },
 "nbformat": 4,
 "nbformat_minor": 2
}
